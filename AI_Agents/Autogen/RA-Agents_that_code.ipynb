{
 "cells": [
  {
   "cell_type": "markdown",
   "id": "16c5bb79-a9dd-48b4-87ba-c09716be8d6b",
   "metadata": {
    "editable": true,
    "slideshow": {
     "slide_type": ""
    },
    "tags": []
   },
   "source": [
    "# Agents that can code"
   ]
  },
  {
   "cell_type": "code",
   "execution_count": null,
   "id": "68c30874-fcf2-491e-9310-a2d347894c7e",
   "metadata": {},
   "outputs": [],
   "source": [
    "# llm_config object to configure our agents\n",
    "llm_config = {\n",
    "    \"model\": \"gpt-4o\", \n",
    "    \"api_key\": \"\"\n",
    "    }"
   ]
  },
  {
   "cell_type": "markdown",
   "id": "0c341f82-9dc8-43da-855f-1f64cb69d6ea",
   "metadata": {},
   "source": [
    "## Command Line Executor\n",
    "\n",
    "In this project, we will be generating simple code and will use setup that executes code locally (We can use the another version of the tool that relies on Docker that will create a virtualized version of a python machine to execute the code)\n",
    "\n",
    "Import the codeExecutor class from autogen and setup a local executor environment for the agents.\n",
    "We are going to specify that if the code hangs and nothing happens during 200 seconds we will interrupt it and that we want all the code to execute and provide results in the `coding` folder:"
   ]
  },
  {
   "cell_type": "code",
   "execution_count": null,
   "id": "dbab39a1-c56a-4ab8-a7ee-132e046cbb36",
   "metadata": {},
   "outputs": [],
   "source": [
    "from autogen.code_utils import create_virtual_env\n",
    "from autogen.coding import CodeBlock, LocalCommandLineCodeExecutor\n",
    "\n",
    "venv_dir = \".env_llm\"\n",
    "venv_context = create_virtual_env(venv_dir)\n",
    "\n",
    "executor = LocalCommandLineCodeExecutor(\n",
    "    virtual_env_context=venv_context,\n",
    "    timeout=200,\n",
    "    work_dir=\"coding\",\n",
    ")\n",
    "print(\n",
    "    executor.execute_code_blocks(code_blocks=[CodeBlock(language=\"python\", code=\"import sys; print(sys.executable)\")])\n",
    ")"
   ]
  },
  {
   "cell_type": "markdown",
   "id": "7c31b1c8-b84c-40c8-92e8-3f7ad82a9036",
   "metadata": {},
   "source": [
    "## Code executor agent\n",
    "\n",
    "We will create two agents:\n",
    "1. A **code_writer_agent**: this agent rely on chatGPT to generate python code to accomplish the requested task.\n",
    "This agent is called `AssistantAgent` one of the subcategories of `ConverseableAgent`. The `AssistantAgent` is designed to write code."
   ]
  },
  {
   "cell_type": "code",
   "execution_count": null,
   "id": "b81f2d8a-411a-4612-94bc-1034745c5e4a",
   "metadata": {},
   "outputs": [],
   "source": [
    "from autogen import AssistantAgent\n",
    "\n",
    "# Agent that writes code\n",
    "code_writer_agent = AssistantAgent(\n",
    "    name=\"code_writer_agent\",\n",
    "    llm_config=llm_config,\n",
    "    code_execution_config=False,\n",
    "    human_input_mode=\"NEVER\",\n",
    ")"
   ]
  },
  {
   "cell_type": "markdown",
   "id": "db2d07a9-1e7a-4a48-9c5e-129ebbeb8d9d",
   "metadata": {},
   "source": [
    "This agent does not execute code (`code_execution_config=False`) and we do not need to specify a system prompt message for this agent because it already has a default one that is designed to suggest python code when it can help. We can see the default system prompt message using below:"
   ]
  },
  {
   "cell_type": "code",
   "execution_count": null,
   "id": "5dc3e5dd-2822-4a05-a79d-24ed64615ec3",
   "metadata": {},
   "outputs": [],
   "source": [
    "code_writer_agent_system_message = code_writer_agent.system_message\n",
    "print(code_writer_agent_system_message)"
   ]
  },
  {
   "cell_type": "markdown",
   "id": "a962f6bc-8cd6-4de9-9081-11e102773763",
   "metadata": {},
   "source": [
    "2. Second type of agent is a **code_executor_agent**: this agent does not use an LLM (`llm_config=False`), this agent will simply execute code it was provided, locally in the `coding` folder, and send back the result of that code as a reply.  \n",
    "This agent needs a `code_execution_config` to be able to execute code, and we will provide it with the one we defined earlier called `executor` (`code_execution_config={\"executor\": executor}`). We will also give it a default auto reply that it will use if the user does not have any additional details to provide. Basically, each time this agent will execute some code, it will request feedback from the user, and if the user does not provide any feedback, it will use the auto reply."
   ]
  },
  {
   "cell_type": "code",
   "execution_count": null,
   "id": "07f014ce-284c-46f3-a2e6-9246c542bd9f",
   "metadata": {},
   "outputs": [],
   "source": [
    "from autogen import ConversableAgent\n",
    "\n",
    "# Code executor agent\n",
    "code_executor_agent = ConversableAgent(\n",
    "    name=\"code_executor_agent\",\n",
    "    llm_config=False,\n",
    "    code_execution_config={\"executor\": executor},\n",
    "    human_input_mode=\"ALWAYS\",\n",
    "    default_auto_reply=\n",
    "    \"Please continue. If everything is done, reply 'TERMINATE'.\",\n",
    ")"
   ]
  },
  {
   "cell_type": "markdown",
   "id": "7b4300a0-0f02-4cfe-b573-c8143cadf8f4",
   "metadata": {
    "editable": true,
    "slideshow": {
     "slide_type": ""
    },
    "tags": []
   },
   "source": [
    "## Coding task\n",
    "\n",
    "We will now ask the agents to perform a task that requires coding. The task will be provided to the Code Writer agent by the Code Executor agent, the Code Writer agent will then propose a code that should fulfill the task, the Code Executor agent will then execute that code and report back the resutl to the Code Writer. There might be several exchanges between these two agents until they accomplish the task.  \n",
    "For example, if a code error is encountered, the error will be reported to the Code Writer who'll propose a corrected version of the code.\n",
    "\n",
    "Let's prepare a simple task to test the code execution scheme. We want the agents to generate a plot that shows the price evolution of two assets, NVDA and MSFT for the last 4 years in a way that makes it easy for us to compare them. We will also add the 50 weeks moving average. Let's write it:"
   ]
  },
  {
   "cell_type": "code",
   "execution_count": null,
   "id": "a74923fa-8793-496b-85cf-6b98e11d8a40",
   "metadata": {},
   "outputs": [],
   "source": [
    "import datetime\n",
    "\n",
    "today = datetime.datetime.now().date()\n",
    "\n",
    "message = f\"Today is {today}. \"\\\n",
    "\"Create a plot showing the normalized price of NVDA and MSFT for the last 4 years \"\\\n",
    "\"with their 50 weeks moving average. \"\\\n",
    "\"Make sure the code is in a markdown code block, save the figure\"\\\n",
    "\" to a file asset_analysis.png and show it. Provide all the code necessary in a single python bloc. \"\\\n",
    "\"Re-provide the code block that needs to be executed with each of your messages. \"\\\n",
    "\"If python packages are necessary to execute the code, provide a markdown \"\\\n",
    "\"sh block with only the command necessary to install them and no comments.\""
   ]
  },
  {
   "cell_type": "markdown",
   "id": "577d796d-9150-455e-b89c-06c7a380735f",
   "metadata": {},
   "source": [
    "During the execution, the executor might encounter some errors. For example, if you did not install the modules required by the code writer, you will get an error. The agents might also just install the missing modules themselves."
   ]
  },
  {
   "cell_type": "code",
   "execution_count": null,
   "id": "baf07c14-81f3-4da0-898d-b321c17e7239",
   "metadata": {},
   "outputs": [],
   "source": [
    "chat_result = code_executor_agent.initiate_chat(\n",
    "    code_writer_agent,\n",
    "    message=message\n",
    ")"
   ]
  },
  {
   "cell_type": "markdown",
   "id": "7994e139-a4dc-40e4-bbed-ca1cfcb7e8a8",
   "metadata": {},
   "source": [
    "The code will now execute.\n",
    "\n",
    "Before executing the code provided by the Code Writer, user will be requested to provide feedback. That is an important safety feature. Always review the code written by an agent before executing it, there might be some malicious content. We can also provide feedback if something is wrong with the code. If not, we can just press Enter to let the Code Executor go ahead and execute the code."
   ]
  }
 ],
 "metadata": {
  "kernelspec": {
   "display_name": "Python 3 (ipykernel)",
   "language": "python",
   "name": "python3"
  },
  "language_info": {
   "codemirror_mode": {
    "name": "ipython",
    "version": 3
   },
   "file_extension": ".py",
   "mimetype": "text/x-python",
   "name": "python",
   "nbconvert_exporter": "python",
   "pygments_lexer": "ipython3",
   "version": "3.12.1"
  }
 },
 "nbformat": 4,
 "nbformat_minor": 5
}
