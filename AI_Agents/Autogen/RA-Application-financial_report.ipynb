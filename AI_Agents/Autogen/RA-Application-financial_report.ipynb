{
 "cells": [
  {
   "cell_type": "markdown",
   "id": "619dee5f-159d-4932-a003-335750b58c73",
   "metadata": {},
   "source": [
    "# Application: Financial report\n",
    "\n",
    "## Goals of the app\n",
    "\n",
    "This app will do the following:\n",
    "* Takes as an input asset tickers\n",
    "* Downloads asset price data, analyzes them (correlations, returns, ...)\n",
    "* Retrieve or compute the following ratios:\n",
    "    * P/E ratio\n",
    "    * Forward P/E\n",
    "    * Dividends\n",
    "    * Price to book\n",
    "    * Debt/Eq\n",
    "    * ROE\n",
    "* Analyze the correlation between the stocks\n",
    "* Plot their normalized prices for comparison\n",
    "* Downloads the latest news headlines about these assets and then analyzes and summarizes these news headlines\n",
    "* Writes a financial report about these assets based on all this information\n",
    "    * **Legal reviewer**: Check that the content is legally compliant.\n",
    "    * **Text/Data alignment reviewer**: Check that the text content is aligned with the text written in the report\n",
    "    * **Consistency reviewer**: Check that the conclusion are consistent throughout the text and no contradictions are present\n",
    "    * **Completion reviewer**: Check that the report contains all the elements requested\n",
    "* Refines the report based on previous criticisms\n",
    "* Saves the final report to a mardown file with a normalized price chart\n"
   ]
  },
  {
   "cell_type": "code",
   "execution_count": null,
   "id": "0b6c7ef4-e32e-4e1b-a9d2-9e276e2233d4",
   "metadata": {},
   "outputs": [],
   "source": [
    "# llm_config\n",
    "\n",
    "llm_config = {\n",
    "    \"model\": \"gpt-4o\", \n",
    "    \"api_key\": \"\"\n",
    "    }\n",
    "\n",
    "\n",
    "import autogen"
   ]
  },
  {
   "cell_type": "markdown",
   "id": "1030bfb5-ff7f-4483-9b6f-4fda63b8e851",
   "metadata": {},
   "source": [
    "## Agents definition\n",
    "\n",
    "The app will rely on agents to accomplish its goal.\n",
    "\n",
    "### 1. Financial & Research task\n",
    "\n",
    "The first task will be to get the financial data about the chosen assets and compute some of their performance metrics, the second task will be to investigate reasons for this performance based on news headlines. Let's first provide a prompt for these tasks. Note that we will provide both of these prompts in a list for convenience:"
   ]
  },
  {
   "cell_type": "code",
   "execution_count": null,
   "id": "0c0a623a-271f-4279-a45f-6bcdba6a1222",
   "metadata": {},
   "outputs": [],
   "source": [
    "from datetime import datetime\n",
    "date_str = datetime.now().strftime(\"%Y-%m-%d\")\n",
    "\n",
    "stocks = \"AMD, NVDA\"\n",
    "\n",
    "financial_tasks = [\n",
    "    f\"\"\"Today is the {date_str}. \n",
    "    What are the current stock prices of {stocks}, and how is the performance over the past 6 months in terms of percentage change? \n",
    "    Start by retrieving the full name of each stock and use it for all future requests.\n",
    "    Prepare a figure of the normalized price of these stocks and save it to a file named normalized_prices.png. Include information about, if applicable: \n",
    "    * P/E ratio\n",
    "    * Forward P/E\n",
    "    * Dividends\n",
    "    * Price to book\n",
    "    * Debt/Eq\n",
    "    * ROE\n",
    "    * Analyze the correlation between the stocks\n",
    "    Do not use a solution that requires an API key.\n",
    "    If some of the data does not makes sense, such as a price of 0, change the query and re-try.\"\"\",\n",
    "\n",
    "    \"\"\"Investigate possible reasons of the stock performance leveraging market news headlines from Bing News or Google Search. Retrieve news headlines using python and return them. Use the full name stocks to retrieve headlines. Retrieve at least 10 headlines per stock. Do not use a solution that requires an API key.\"\"\",\n",
    "]"
   ]
  },
  {
   "cell_type": "markdown",
   "id": "12e0105e-1051-4c52-9868-dd490e557249",
   "metadata": {},
   "source": [
    "We now need agents to perform these taks. We are going to define two agents to do so, a Financial agent, for the first task, and a Research agent, for the second task. Both agents will have to provide code that can perform each task, so these will be Assistant agents with LLM capability:"
   ]
  },
  {
   "cell_type": "code",
   "execution_count": null,
   "id": "3eca0188-454d-4670-a483-6943f6eca174",
   "metadata": {},
   "outputs": [],
   "source": [
    "financial_assistant = autogen.AssistantAgent(\n",
    "    name=\"Financial_assistant\",\n",
    "    llm_config=llm_config,\n",
    ")\n",
    "research_assistant = autogen.AssistantAgent(\n",
    "    name=\"Researcher\",\n",
    "    llm_config=llm_config,\n",
    ")"
   ]
  },
  {
   "cell_type": "markdown",
   "id": "a003ad04-00d1-417f-a2f2-9197e81ee52a",
   "metadata": {},
   "source": [
    "At the end of this task, we will have the price data, performance metrics and a chart that shows normalized price evolution fot the specified assets. "
   ]
  },
  {
   "cell_type": "markdown",
   "id": "370f5eba-0102-43ba-a017-3214f69b0bb8",
   "metadata": {},
   "source": [
    "### 2. Writing task\n",
    "\n",
    "The second taks will be to write a first version of a report based on the data provided by the previous agents. Let's define the task:"
   ]
  },
  {
   "cell_type": "code",
   "execution_count": null,
   "id": "b505973e-e87c-4b60-a580-243461786478",
   "metadata": {},
   "outputs": [],
   "source": [
    "writing_tasks = [\n",
    "        \"\"\"Develop an engaging financial report using all information provided, include the normalized_prices.png figure,\n",
    "        and other figures if provided.\n",
    "        Mainly rely on the information provided. \n",
    "        Create a table comparing all the fundamental ratios and data.\n",
    "        Provide comments and description of all the fundamental ratios and data.\n",
    "        Compare the stocks, consider their correlation and risks, provide a comparative analysis of the stocks.\n",
    "        Provide a summary of the recent news about each stock. \n",
    "        Ensure that you comment and summarize the news headlines for each stock, provide a comprehensive analysis of the news.\n",
    "        Provide connections between the news headlines provided and the fundamental ratios.\n",
    "        Provide an analysis of possible future scenarios. \n",
    "        \"\"\"]"
   ]
  },
  {
   "cell_type": "markdown",
   "id": "b5f6340c-7e5e-4da3-9f6c-c3088077c4e3",
   "metadata": {},
   "source": [
    "Let's define an agent to work on this task:"
   ]
  },
  {
   "cell_type": "code",
   "execution_count": null,
   "id": "74e790e8-583e-492b-aab6-f99642b53542",
   "metadata": {},
   "outputs": [],
   "source": [
    "writer = autogen.AssistantAgent(\n",
    "    name=\"writer\",\n",
    "    llm_config=llm_config,\n",
    "    system_message=\"\"\"\n",
    "        You are a professional writer, known for\n",
    "        your insightful and engaging finance reports.\n",
    "        You transform complex concepts into compelling narratives. \n",
    "        Include all metrics provided to you as context in your analysis.\n",
    "        Only answer with the financial report written in markdown directly, do not include a markdown language block indicator.\n",
    "        Only return your final work without additional comments.\n",
    "        \"\"\",\n",
    ")"
   ]
  },
  {
   "cell_type": "markdown",
   "id": "d2f07193-08b7-4202-b9fd-8b07cdd5d9e3",
   "metadata": {},
   "source": [
    "### 3. Refining the blogpost\n",
    "\n",
    "To refine the blogpost based on SEO, legal aspects and ethical aspects, we are going to use a nested chat that will be triggered when the Writer contacts the Critic. The Critic will trigger a nested chat with agents designed to optimize each aspect. A final agent in this nested chat, the Meta Reviewer, will summarize and assemble all reviews and send them back to the Critic, who'll transfer them to the Writer agent to prepare a refined version. Let's define all these agents:"
   ]
  },
  {
   "cell_type": "code",
   "execution_count": null,
   "id": "35fca7ce-69f2-49e5-ab0f-9918dfda51df",
   "metadata": {},
   "outputs": [],
   "source": [
    "critic = autogen.AssistantAgent(\n",
    "    name=\"Critic\",\n",
    "    is_termination_msg=lambda x: x.get(\"content\", \"\").find(\"TERMINATE\") >= 0,\n",
    "    llm_config=llm_config,\n",
    "    system_message=\"You are a critic. You review the work of \"\n",
    "                \"the writer and provide constructive \"\n",
    "                \"feedback to help improve the quality of the content.\",\n",
    ")\n",
    "\n",
    "legal_reviewer = autogen.AssistantAgent(\n",
    "    name=\"Legal Reviewer\",\n",
    "    llm_config=llm_config,\n",
    "    system_message=\"You are a legal reviewer, known for \"\n",
    "        \"your ability to ensure that content is legally compliant \"\n",
    "        \"and free from any potential legal issues. \"\n",
    "        \"Make sure your suggestion is concise (within 3 bullet points), \"\n",
    "        \"concrete and to the point. \"\n",
    "        \"Begin the review by stating your role.\",\n",
    ")\n",
    "\n",
    "consistency_reviewer = autogen.AssistantAgent(\n",
    "    name=\"Consistency reviewer\",\n",
    "    llm_config=llm_config,\n",
    "    system_message=\"You are a consistency reviewer, known for \"\n",
    "        \"your ability to ensure that the written content is consistent throughout the report. \"\n",
    "        \"Refer numbers and data in the report to determine which version should be chosen \" \n",
    "        \"in case of contradictions. \"\n",
    "        \"Make sure your suggestion is concise (within 3 bullet points), \"\n",
    "        \"concrete and to the point. \"\n",
    "        \"Begin the review by stating your role. \",\n",
    ")\n",
    "\n",
    "textalignment_reviewer = autogen.AssistantAgent(\n",
    "    name=\"Text alignment reviewer\",\n",
    "    llm_config=llm_config,\n",
    "    system_message=\"You are a text data alignment reviewer, known for \"\n",
    "        \"your ability to ensure that the meaning of the written content is aligned \"\n",
    "        \"with the numbers written in the text. \" \n",
    "        \"You must ensure that the text clearely describes the numbers provided in the text \"\n",
    "        \"without contradictions. \"\n",
    "        \"Make sure your suggestion is concise (within 3 bullet points), \"\n",
    "        \"concrete and to the point. \"\n",
    "        \"Begin the review by stating your role. \",\n",
    ")\n",
    "\n",
    "completion_reviewer = autogen.AssistantAgent(\n",
    "    name=\"Completion Reviewer\",\n",
    "    llm_config=llm_config,\n",
    "    system_message=\"You are a content completion reviewer, known for \"\n",
    "        \"your ability to check that financial reports contain all the required elements. \"\n",
    "        \"You always verify that the report contains: a news report about each asset, \" \n",
    "        \"a description of the different ratios and prices, \"\n",
    "        \"a description of possible future scenarios, a table comparing fundamental ratios and \"\n",
    "        \" at least a single figure. \"\n",
    "        \"Make sure your suggestion is concise (within 3 bullet points), \"\n",
    "        \"concrete and to the point. \"\n",
    "        \"Begin the review by stating your role. \",\n",
    ")\n",
    "\n",
    "meta_reviewer = autogen.AssistantAgent(\n",
    "    name=\"Meta Reviewer\",\n",
    "    llm_config=llm_config,\n",
    "    system_message=\"You are a meta reviewer, you aggregate and review \"\n",
    "    \"the work of other reviewers and give a final suggestion on the content.\",\n",
    ")"
   ]
  },
  {
   "cell_type": "markdown",
   "id": "cef7f13c-6169-4d7a-986f-754d93da7d00",
   "metadata": {},
   "source": [
    "### 4. Exporting the blogpost in markdown\n",
    "\n",
    "We will define one agent that will write the python code necessary to export the final blogpost in a markdown file:"
   ]
  },
  {
   "cell_type": "code",
   "execution_count": null,
   "id": "cfaa2540-c1dd-4464-961b-6b6badcfee81",
   "metadata": {},
   "outputs": [],
   "source": [
    "exporting_task = [\"\"\"Save the blogpost and only the blogpost to a .md file using a python script.\"\"\"]"
   ]
  },
  {
   "cell_type": "code",
   "execution_count": null,
   "id": "28f78978-550c-40d6-ba1a-08536618efa2",
   "metadata": {},
   "outputs": [],
   "source": [
    "export_assistant = autogen.AssistantAgent(\n",
    "    name=\"Exporter\",\n",
    "    llm_config=llm_config,\n",
    ")"
   ]
  },
  {
   "cell_type": "markdown",
   "id": "3f3655fc-52a9-408e-a94d-987553bed8d4",
   "metadata": {},
   "source": [
    "### Code execution\n",
    "\n",
    "Finally, we will need an agent to execute code. Since we're preparing an app that will have to run without human intervention, we will create a user proxy agent that will never request human input. This is a bit risky as the agents might get stuck in an execution loop of code that does not work; they might also execute malicious code (the risk is very low for this app). Let's define such an agent:"
   ]
  },
  {
   "cell_type": "code",
   "execution_count": null,
   "id": "0b2750af-555b-4e6b-b4c6-b658ecf6ecbb",
   "metadata": {},
   "outputs": [],
   "source": [
    "user_proxy_auto = autogen.UserProxyAgent(\n",
    "    name=\"User_Proxy_Auto\",\n",
    "    human_input_mode=\"NEVER\",\n",
    "    is_termination_msg=lambda x: x.get(\"content\", \"\") and x.get(\"content\", \"\").rstrip().endswith(\"TERMINATE\"),\n",
    "    code_execution_config={\n",
    "        \"last_n_messages\": 3,\n",
    "        \"work_dir\": \"coding\",\n",
    "        \"use_docker\": False,\n",
    "    },  \n",
    ")"
   ]
  },
  {
   "cell_type": "markdown",
   "id": "9e9abe69-0bcd-497e-9623-b3657686b11b",
   "metadata": {},
   "source": [
    "## Agentic flow\n",
    "\n",
    "We are now going to define the flow of chats through which our agents will interact. We will have to define two chats:\n",
    "1. The nested chat flow for blog post writing refining\n",
    "2. The main chat flow\n",
    "\n",
    "### Nested chat flow\n",
    "\n",
    "Let's first start by defining the nested chat flow. This chat will be triggered when the Writer will contact the Critic:"
   ]
  },
  {
   "cell_type": "code",
   "execution_count": null,
   "id": "b5d2c410-6dd1-42a9-8d55-604f56718e07",
   "metadata": {},
   "outputs": [],
   "source": [
    "def reflection_message(recipient, messages, sender, config):\n",
    "    return f'''Review the following content. \n",
    "            \\n\\n {recipient.chat_messages_for_summary(sender)[-1]['content']}'''\n",
    "\n",
    "review_chats = [\n",
    "    {\n",
    "    \"recipient\": legal_reviewer, \"message\": reflection_message, \n",
    "     \"summary_method\": \"reflection_with_llm\",\n",
    "     \"summary_args\": {\"summary_prompt\" : \n",
    "        \"Return review into a JSON object only:\"\n",
    "        \"{'Reviewer': '', 'Review': ''}.\",},\n",
    "     \"max_turns\": 1},\n",
    "    {\"recipient\": textalignment_reviewer, \"message\": reflection_message, \n",
    "     \"summary_method\": \"reflection_with_llm\",\n",
    "     \"summary_args\": {\"summary_prompt\" : \n",
    "        \"Return review into a JSON object only:\"\n",
    "        \"{'reviewer': '', 'review': ''}\",},\n",
    "     \"max_turns\": 1},\n",
    "    {\"recipient\": consistency_reviewer, \"message\": reflection_message, \n",
    "     \"summary_method\": \"reflection_with_llm\",\n",
    "     \"summary_args\": {\"summary_prompt\" : \n",
    "        \"Return review into a JSON object only:\"\n",
    "        \"{'reviewer': '', 'review': ''}\",},\n",
    "     \"max_turns\": 1},\n",
    "    {\"recipient\": completion_reviewer, \"message\": reflection_message, \n",
    "     \"summary_method\": \"reflection_with_llm\",\n",
    "     \"summary_args\": {\"summary_prompt\" : \n",
    "        \"Return review into a JSON object only:\"\n",
    "        \"{'reviewer': '', 'review': ''}\",},\n",
    "     \"max_turns\": 1},\n",
    "     {\"recipient\": meta_reviewer, \n",
    "      \"message\": \"Aggregrate feedback from all reviewers and give final suggestions on the writing.\", \n",
    "     \"max_turns\": 1},\n",
    "]\n",
    "\n",
    "critic.register_nested_chats(\n",
    "    review_chats,\n",
    "    trigger=writer,\n",
    ")"
   ]
  },
  {
   "cell_type": "markdown",
   "id": "745b5df4-79fa-4c3a-b24c-26ccc72167b1",
   "metadata": {},
   "source": [
    "### Main chat flow\n",
    "\n",
    "Let's now define the main chat flow, it will be composed of 4 chats:\n",
    "1. Financial agent with user proxy to accomplish the first financial task\n",
    "2. Research agent with user proxy to accomplish the second financial task\n",
    "3. Critic with Writer to write and refine the blogpost through the Nested chat\n",
    "4. Export agent with user proxy to export the markdown blogpost to a file"
   ]
  },
  {
   "cell_type": "code",
   "execution_count": null,
   "id": "61e2e5bc-cafe-4151-b9d4-7054b9aa6adc",
   "metadata": {},
   "outputs": [],
   "source": [
    "chat_results = autogen.initiate_chats(\n",
    "    [\n",
    "        {\n",
    "            \"sender\": user_proxy_auto,\n",
    "            \"recipient\": financial_assistant,\n",
    "            \"message\": financial_tasks[0],\n",
    "            \"silent\": False,\n",
    "            \"summary_method\": \"reflection_with_llm\",\n",
    "            \"summary_args\": {\n",
    "                \"summary_prompt\" : \"Return the stock prices of the stocks, their performance and all other metrics\"\n",
    "                \"into a JSON object only. Provide the name of all figure files created. Provide the full name of each stock.\",\n",
    "                            },\n",
    "            \"clear_history\": False,\n",
    "            \"carryover\": \"Wait for confirmation of code execution before terminating the conversation. Verify that the data is not completely composed of NaN values. Reply TERMINATE in the end when everything is done.\"\n",
    "        },\n",
    "        {\n",
    "            \"sender\": user_proxy_auto,\n",
    "            \"recipient\": research_assistant,\n",
    "            \"message\": financial_tasks[1],\n",
    "            \"silent\": False,\n",
    "            \"summary_method\": \"reflection_with_llm\",\n",
    "            \"summary_args\": {\n",
    "                \"summary_prompt\" : \"Provide the news headlines as a paragraph for each stock, be precise but do not consider news events that are vague, return the result as a JSON object only.\",\n",
    "                            },\n",
    "            \"clear_history\": False,\n",
    "            \"carryover\": \"Wait for confirmation of code execution before terminating the conversation. Reply TERMINATE in the end when everything is done.\"\n",
    "        },\n",
    "        {\n",
    "            \"sender\": critic,\n",
    "            \"recipient\": writer,\n",
    "            \"message\": writing_tasks[0],\n",
    "            \"carryover\": \"I want to include a figure and a table of the provided data in the financial report.\",\n",
    "            \"max_turns\": 2,\n",
    "            \"summary_method\": \"last_msg\",\n",
    "        },\n",
    "        {\n",
    "            \"sender\": user_proxy_auto,\n",
    "            \"recipient\": export_assistant,\n",
    "            \"message\": exporting_task[0],\n",
    "            \"carryover\": \"Wait for confirmation of code execution before terminating the conversation. Reply TERMINATE in the end when everything is done.\",\n",
    "        }\n",
    "    ]\n",
    ")"
   ]
  },
  {
   "cell_type": "markdown",
   "id": "0e6f0e2a-8a49-413a-b44d-1bddcb08eabd",
   "metadata": {},
   "source": [
    "We can execute the code from the .py script created with coding part.  \n",
    "\n",
    "`python RA-Application-financial_report.py`"
   ]
  }
 ],
 "metadata": {
  "kernelspec": {
   "display_name": "Python 3 (ipykernel)",
   "language": "python",
   "name": "python3"
  },
  "language_info": {
   "codemirror_mode": {
    "name": "ipython",
    "version": 3
   },
   "file_extension": ".py",
   "mimetype": "text/x-python",
   "name": "python",
   "nbconvert_exporter": "python",
   "pygments_lexer": "ipython3",
   "version": "3.12.1"
  }
 },
 "nbformat": 4,
 "nbformat_minor": 5
}
